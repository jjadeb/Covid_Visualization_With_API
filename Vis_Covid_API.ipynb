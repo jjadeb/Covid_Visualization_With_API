{
  "cells": [
    {
      "cell_type": "markdown",
      "metadata": {
        "id": "view-in-github",
        "colab_type": "text"
      },
      "source": [
        "<a href=\"https://colab.research.google.com/github/jjadeb/Covid_Visualization_With_API/blob/main/Vis_Covid_API.ipynb\" target=\"_parent\"><img src=\"https://colab.research.google.com/assets/colab-badge.svg\" alt=\"Open In Colab\"/></a>"
      ]
    },
    {
      "cell_type": "markdown",
      "id": "c4cef6c0-55f0-459a-9e39-c573088f3d42",
      "metadata": {
        "id": "c4cef6c0-55f0-459a-9e39-c573088f3d42"
      },
      "source": [
        "# Using an API to Visualize Covid Cases in Canada"
      ]
    },
    {
      "cell_type": "markdown",
      "id": "b13d1c09-3456-4432-8138-5190c039e828",
      "metadata": {
        "id": "b13d1c09-3456-4432-8138-5190c039e828"
      },
      "source": [
        "I recently caught Covid and spent my sick-time going through a course called 'Using Python to Access Web Data.' In this course I was introduced to API's and wanted to try it out for myself, as well as explore python's visualization tools. It felt fitting to work with Canadian covid data. Enjoy!"
      ]
    },
    {
      "cell_type": "markdown",
      "id": "b1060f02-3491-4dea-9d5c-cbec9ad02830",
      "metadata": {
        "id": "b1060f02-3491-4dea-9d5c-cbec9ad02830"
      },
      "source": [
        "### Credits\n",
        "**API**\n",
        "<br>Built by: Kyle Redelinghuys\n",
        "<br>Website: https://covid19api.com/\n",
        "<br>\n",
        "<br>**Data**\n",
        "<br> Sourced from: COVID-19 Data Repository by the Center for Systems Science and Engineering (CSSE) at Johns Hopkins University\n",
        "<br>Github: https://github.com/CSSEGISandData/COVID-19 \n",
        "<br>\n",
        "<br>**Coursera Course: Using Python to Access Web Data**\n",
        "<br>Published by: University of Michigan\n",
        "<br>Course link: https://www.coursera.org/learn/python-network-data"
      ]
    },
    {
      "cell_type": "markdown",
      "id": "5a49bc0a-aeed-40ed-a211-7048517ba097",
      "metadata": {
        "id": "5a49bc0a-aeed-40ed-a211-7048517ba097"
      },
      "source": [
        "### Retrieving the Data"
      ]
    },
    {
      "cell_type": "markdown",
      "id": "b275b53c-c2c7-4641-999d-f82cc9148986",
      "metadata": {
        "id": "b275b53c-c2c7-4641-999d-f82cc9148986"
      },
      "source": [
        "First, I'll import the packages I need."
      ]
    },
    {
      "cell_type": "code",
      "execution_count": 1,
      "id": "d15b76ef-6295-49bf-b2f7-ba0a6c67a64d",
      "metadata": {
        "id": "d15b76ef-6295-49bf-b2f7-ba0a6c67a64d"
      },
      "outputs": [],
      "source": [
        "#Import statements\n",
        "\n",
        "import requests\n",
        "import json\n",
        "\n",
        "import pandas as pd\n",
        "import numpy as np\n",
        "import matplotlib.pyplot as plt\n",
        "from dateutil.parser import parse\n",
        "from scipy.signal import savgol_filter"
      ]
    },
    {
      "cell_type": "markdown",
      "id": "eaf5367a-27a8-4e7e-8140-065e759761b1",
      "metadata": {
        "id": "eaf5367a-27a8-4e7e-8140-065e759761b1"
      },
      "source": [
        "Now, time to request and retrieve the data. The `request` and `json` packages make this process fairly simple."
      ]
    },
    {
      "cell_type": "code",
      "execution_count": 2,
      "id": "a2502b32-6ce6-46bf-a30a-5893aff4ddec",
      "metadata": {
        "id": "a2502b32-6ce6-46bf-a30a-5893aff4ddec"
      },
      "outputs": [],
      "source": [
        "#Setting up for request\n",
        "url = \"https://api.covid19api.com/dayone/country/canada/status/confirmed/live\"\n",
        "\n",
        "payload={}\n",
        "headers = {}\n",
        "\n",
        "#Request/response\n",
        "response = requests.request(\"GET\", url, headers=headers, data=payload)\n",
        "\n",
        "info = json.loads(response.text)\n",
        "\n",
        "#Assigning data to lists\n",
        "cases = []\n",
        "dates = []\n",
        "\n",
        "for item in info:\n",
        "    cases.append(item['Cases'])\n",
        "    dates.append(parse(item['Date']))\n"
      ]
    },
    {
      "cell_type": "markdown",
      "id": "1067bd59-6f2f-4561-bf3c-2fc60b36fe2c",
      "metadata": {
        "id": "1067bd59-6f2f-4561-bf3c-2fc60b36fe2c"
      },
      "source": [
        "There is a rate limit on how many requests can be made. The following code prints out how many requests are left for the current time period. "
      ]
    },
    {
      "cell_type": "code",
      "execution_count": 3,
      "id": "6ec0a86a-b104-4309-b2ee-2315e992373e",
      "metadata": {
        "colab": {
          "base_uri": "https://localhost:8080/"
        },
        "id": "6ec0a86a-b104-4309-b2ee-2315e992373e",
        "outputId": "89aebfa1-c99e-4aff-aa58-1080762d872f"
      },
      "outputs": [
        {
          "output_type": "stream",
          "name": "stdout",
          "text": [
            "Requests remaining in timeframe: 9\n"
          ]
        }
      ],
      "source": [
        "#Printing remaining requests in time frame\n",
        "\n",
        "headers = response.headers\n",
        "rate_limit_remaining = headers['X-Ratelimit-Remaining']\n",
        "print(\"Requests remaining in timeframe:\", rate_limit_remaining)"
      ]
    },
    {
      "cell_type": "markdown",
      "id": "51209a7f-5cd8-4568-9b88-d83cf1af3eca",
      "metadata": {
        "id": "51209a7f-5cd8-4568-9b88-d83cf1af3eca"
      },
      "source": [
        "### Cleaning the Data"
      ]
    },
    {
      "cell_type": "markdown",
      "id": "df5606e4-d5f7-487e-9862-e4e1b94ba01a",
      "metadata": {
        "id": "df5606e4-d5f7-487e-9862-e4e1b94ba01a"
      },
      "source": [
        "Next, I'll create a dataframe with the retrieved covid data."
      ]
    },
    {
      "cell_type": "code",
      "execution_count": 4,
      "id": "ad243a70-1470-4f06-9443-0e55bbc2beb4",
      "metadata": {
        "id": "ad243a70-1470-4f06-9443-0e55bbc2beb4"
      },
      "outputs": [],
      "source": [
        "#Dataframe for dates vs cases\n",
        "\n",
        "data = {'Date':dates, 'Cases':cases}\n",
        "df = pd.DataFrame(data)"
      ]
    },
    {
      "cell_type": "markdown",
      "id": "2db76c2a-d2ec-4e7f-b700-2210a777f0a9",
      "metadata": {
        "id": "2db76c2a-d2ec-4e7f-b700-2210a777f0a9"
      },
      "source": [
        "We can see below that the oldest data is when the very first covid cases popped up in Canada. It's also worth noting that the cases are cumulative."
      ]
    },
    {
      "cell_type": "code",
      "execution_count": 5,
      "id": "429aba13-7261-4650-9664-69b67a40d377",
      "metadata": {
        "colab": {
          "base_uri": "https://localhost:8080/",
          "height": 206
        },
        "id": "429aba13-7261-4650-9664-69b67a40d377",
        "outputId": "834c0b27-dacc-4d8c-869a-91517fbb7c7c"
      },
      "outputs": [
        {
          "output_type": "execute_result",
          "data": {
            "text/plain": [
              "                       Date  Cases\n",
              "0 2020-01-23 00:00:00+00:00      2\n",
              "1 2020-01-24 00:00:00+00:00      3\n",
              "2 2020-01-25 00:00:00+00:00      3\n",
              "3 2020-01-26 00:00:00+00:00      3\n",
              "4 2020-01-27 00:00:00+00:00      3"
            ],
            "text/html": [
              "\n",
              "  <div id=\"df-ee4c6f6c-a0d6-4005-8679-be8209fb6ac1\">\n",
              "    <div class=\"colab-df-container\">\n",
              "      <div>\n",
              "<style scoped>\n",
              "    .dataframe tbody tr th:only-of-type {\n",
              "        vertical-align: middle;\n",
              "    }\n",
              "\n",
              "    .dataframe tbody tr th {\n",
              "        vertical-align: top;\n",
              "    }\n",
              "\n",
              "    .dataframe thead th {\n",
              "        text-align: right;\n",
              "    }\n",
              "</style>\n",
              "<table border=\"1\" class=\"dataframe\">\n",
              "  <thead>\n",
              "    <tr style=\"text-align: right;\">\n",
              "      <th></th>\n",
              "      <th>Date</th>\n",
              "      <th>Cases</th>\n",
              "    </tr>\n",
              "  </thead>\n",
              "  <tbody>\n",
              "    <tr>\n",
              "      <th>0</th>\n",
              "      <td>2020-01-23 00:00:00+00:00</td>\n",
              "      <td>2</td>\n",
              "    </tr>\n",
              "    <tr>\n",
              "      <th>1</th>\n",
              "      <td>2020-01-24 00:00:00+00:00</td>\n",
              "      <td>3</td>\n",
              "    </tr>\n",
              "    <tr>\n",
              "      <th>2</th>\n",
              "      <td>2020-01-25 00:00:00+00:00</td>\n",
              "      <td>3</td>\n",
              "    </tr>\n",
              "    <tr>\n",
              "      <th>3</th>\n",
              "      <td>2020-01-26 00:00:00+00:00</td>\n",
              "      <td>3</td>\n",
              "    </tr>\n",
              "    <tr>\n",
              "      <th>4</th>\n",
              "      <td>2020-01-27 00:00:00+00:00</td>\n",
              "      <td>3</td>\n",
              "    </tr>\n",
              "  </tbody>\n",
              "</table>\n",
              "</div>\n",
              "      <button class=\"colab-df-convert\" onclick=\"convertToInteractive('df-ee4c6f6c-a0d6-4005-8679-be8209fb6ac1')\"\n",
              "              title=\"Convert this dataframe to an interactive table.\"\n",
              "              style=\"display:none;\">\n",
              "        \n",
              "  <svg xmlns=\"http://www.w3.org/2000/svg\" height=\"24px\"viewBox=\"0 0 24 24\"\n",
              "       width=\"24px\">\n",
              "    <path d=\"M0 0h24v24H0V0z\" fill=\"none\"/>\n",
              "    <path d=\"M18.56 5.44l.94 2.06.94-2.06 2.06-.94-2.06-.94-.94-2.06-.94 2.06-2.06.94zm-11 1L8.5 8.5l.94-2.06 2.06-.94-2.06-.94L8.5 2.5l-.94 2.06-2.06.94zm10 10l.94 2.06.94-2.06 2.06-.94-2.06-.94-.94-2.06-.94 2.06-2.06.94z\"/><path d=\"M17.41 7.96l-1.37-1.37c-.4-.4-.92-.59-1.43-.59-.52 0-1.04.2-1.43.59L10.3 9.45l-7.72 7.72c-.78.78-.78 2.05 0 2.83L4 21.41c.39.39.9.59 1.41.59.51 0 1.02-.2 1.41-.59l7.78-7.78 2.81-2.81c.8-.78.8-2.07 0-2.86zM5.41 20L4 18.59l7.72-7.72 1.47 1.35L5.41 20z\"/>\n",
              "  </svg>\n",
              "      </button>\n",
              "      \n",
              "  <style>\n",
              "    .colab-df-container {\n",
              "      display:flex;\n",
              "      flex-wrap:wrap;\n",
              "      gap: 12px;\n",
              "    }\n",
              "\n",
              "    .colab-df-convert {\n",
              "      background-color: #E8F0FE;\n",
              "      border: none;\n",
              "      border-radius: 50%;\n",
              "      cursor: pointer;\n",
              "      display: none;\n",
              "      fill: #1967D2;\n",
              "      height: 32px;\n",
              "      padding: 0 0 0 0;\n",
              "      width: 32px;\n",
              "    }\n",
              "\n",
              "    .colab-df-convert:hover {\n",
              "      background-color: #E2EBFA;\n",
              "      box-shadow: 0px 1px 2px rgba(60, 64, 67, 0.3), 0px 1px 3px 1px rgba(60, 64, 67, 0.15);\n",
              "      fill: #174EA6;\n",
              "    }\n",
              "\n",
              "    [theme=dark] .colab-df-convert {\n",
              "      background-color: #3B4455;\n",
              "      fill: #D2E3FC;\n",
              "    }\n",
              "\n",
              "    [theme=dark] .colab-df-convert:hover {\n",
              "      background-color: #434B5C;\n",
              "      box-shadow: 0px 1px 3px 1px rgba(0, 0, 0, 0.15);\n",
              "      filter: drop-shadow(0px 1px 2px rgba(0, 0, 0, 0.3));\n",
              "      fill: #FFFFFF;\n",
              "    }\n",
              "  </style>\n",
              "\n",
              "      <script>\n",
              "        const buttonEl =\n",
              "          document.querySelector('#df-ee4c6f6c-a0d6-4005-8679-be8209fb6ac1 button.colab-df-convert');\n",
              "        buttonEl.style.display =\n",
              "          google.colab.kernel.accessAllowed ? 'block' : 'none';\n",
              "\n",
              "        async function convertToInteractive(key) {\n",
              "          const element = document.querySelector('#df-ee4c6f6c-a0d6-4005-8679-be8209fb6ac1');\n",
              "          const dataTable =\n",
              "            await google.colab.kernel.invokeFunction('convertToInteractive',\n",
              "                                                     [key], {});\n",
              "          if (!dataTable) return;\n",
              "\n",
              "          const docLinkHtml = 'Like what you see? Visit the ' +\n",
              "            '<a target=\"_blank\" href=https://colab.research.google.com/notebooks/data_table.ipynb>data table notebook</a>'\n",
              "            + ' to learn more about interactive tables.';\n",
              "          element.innerHTML = '';\n",
              "          dataTable['output_type'] = 'display_data';\n",
              "          await google.colab.output.renderOutput(dataTable, element);\n",
              "          const docLink = document.createElement('div');\n",
              "          docLink.innerHTML = docLinkHtml;\n",
              "          element.appendChild(docLink);\n",
              "        }\n",
              "      </script>\n",
              "    </div>\n",
              "  </div>\n",
              "  "
            ]
          },
          "metadata": {},
          "execution_count": 5
        }
      ],
      "source": [
        "#Print head\n",
        "df.head()"
      ]
    },
    {
      "cell_type": "markdown",
      "id": "b514ce36-01dd-4be2-9db6-8f718b21d4dd",
      "metadata": {
        "id": "b514ce36-01dd-4be2-9db6-8f718b21d4dd"
      },
      "source": [
        "The following data shows the most recent cumulative number of cases in Canada."
      ]
    },
    {
      "cell_type": "code",
      "execution_count": 6,
      "id": "0cad4d27-d6eb-470a-a700-2b875c0a6fb8",
      "metadata": {
        "colab": {
          "base_uri": "https://localhost:8080/",
          "height": 206
        },
        "id": "0cad4d27-d6eb-470a-a700-2b875c0a6fb8",
        "outputId": "78a1017f-8dea-4f67-e2c8-69c994d41030"
      },
      "outputs": [
        {
          "output_type": "execute_result",
          "data": {
            "text/plain": [
              "                          Date    Cases\n",
              "1066 2022-12-24 00:00:00+00:00  3875356\n",
              "1067 2022-12-25 00:00:00+00:00  3875356\n",
              "1068 2022-12-26 00:00:00+00:00  3877068\n",
              "1069 2022-12-27 00:00:00+00:00  3877836\n",
              "1070 2022-12-28 00:00:00+00:00  3878788"
            ],
            "text/html": [
              "\n",
              "  <div id=\"df-9de0a188-d424-48fb-aca7-7e3a638600a1\">\n",
              "    <div class=\"colab-df-container\">\n",
              "      <div>\n",
              "<style scoped>\n",
              "    .dataframe tbody tr th:only-of-type {\n",
              "        vertical-align: middle;\n",
              "    }\n",
              "\n",
              "    .dataframe tbody tr th {\n",
              "        vertical-align: top;\n",
              "    }\n",
              "\n",
              "    .dataframe thead th {\n",
              "        text-align: right;\n",
              "    }\n",
              "</style>\n",
              "<table border=\"1\" class=\"dataframe\">\n",
              "  <thead>\n",
              "    <tr style=\"text-align: right;\">\n",
              "      <th></th>\n",
              "      <th>Date</th>\n",
              "      <th>Cases</th>\n",
              "    </tr>\n",
              "  </thead>\n",
              "  <tbody>\n",
              "    <tr>\n",
              "      <th>1066</th>\n",
              "      <td>2022-12-24 00:00:00+00:00</td>\n",
              "      <td>3875356</td>\n",
              "    </tr>\n",
              "    <tr>\n",
              "      <th>1067</th>\n",
              "      <td>2022-12-25 00:00:00+00:00</td>\n",
              "      <td>3875356</td>\n",
              "    </tr>\n",
              "    <tr>\n",
              "      <th>1068</th>\n",
              "      <td>2022-12-26 00:00:00+00:00</td>\n",
              "      <td>3877068</td>\n",
              "    </tr>\n",
              "    <tr>\n",
              "      <th>1069</th>\n",
              "      <td>2022-12-27 00:00:00+00:00</td>\n",
              "      <td>3877836</td>\n",
              "    </tr>\n",
              "    <tr>\n",
              "      <th>1070</th>\n",
              "      <td>2022-12-28 00:00:00+00:00</td>\n",
              "      <td>3878788</td>\n",
              "    </tr>\n",
              "  </tbody>\n",
              "</table>\n",
              "</div>\n",
              "      <button class=\"colab-df-convert\" onclick=\"convertToInteractive('df-9de0a188-d424-48fb-aca7-7e3a638600a1')\"\n",
              "              title=\"Convert this dataframe to an interactive table.\"\n",
              "              style=\"display:none;\">\n",
              "        \n",
              "  <svg xmlns=\"http://www.w3.org/2000/svg\" height=\"24px\"viewBox=\"0 0 24 24\"\n",
              "       width=\"24px\">\n",
              "    <path d=\"M0 0h24v24H0V0z\" fill=\"none\"/>\n",
              "    <path d=\"M18.56 5.44l.94 2.06.94-2.06 2.06-.94-2.06-.94-.94-2.06-.94 2.06-2.06.94zm-11 1L8.5 8.5l.94-2.06 2.06-.94-2.06-.94L8.5 2.5l-.94 2.06-2.06.94zm10 10l.94 2.06.94-2.06 2.06-.94-2.06-.94-.94-2.06-.94 2.06-2.06.94z\"/><path d=\"M17.41 7.96l-1.37-1.37c-.4-.4-.92-.59-1.43-.59-.52 0-1.04.2-1.43.59L10.3 9.45l-7.72 7.72c-.78.78-.78 2.05 0 2.83L4 21.41c.39.39.9.59 1.41.59.51 0 1.02-.2 1.41-.59l7.78-7.78 2.81-2.81c.8-.78.8-2.07 0-2.86zM5.41 20L4 18.59l7.72-7.72 1.47 1.35L5.41 20z\"/>\n",
              "  </svg>\n",
              "      </button>\n",
              "      \n",
              "  <style>\n",
              "    .colab-df-container {\n",
              "      display:flex;\n",
              "      flex-wrap:wrap;\n",
              "      gap: 12px;\n",
              "    }\n",
              "\n",
              "    .colab-df-convert {\n",
              "      background-color: #E8F0FE;\n",
              "      border: none;\n",
              "      border-radius: 50%;\n",
              "      cursor: pointer;\n",
              "      display: none;\n",
              "      fill: #1967D2;\n",
              "      height: 32px;\n",
              "      padding: 0 0 0 0;\n",
              "      width: 32px;\n",
              "    }\n",
              "\n",
              "    .colab-df-convert:hover {\n",
              "      background-color: #E2EBFA;\n",
              "      box-shadow: 0px 1px 2px rgba(60, 64, 67, 0.3), 0px 1px 3px 1px rgba(60, 64, 67, 0.15);\n",
              "      fill: #174EA6;\n",
              "    }\n",
              "\n",
              "    [theme=dark] .colab-df-convert {\n",
              "      background-color: #3B4455;\n",
              "      fill: #D2E3FC;\n",
              "    }\n",
              "\n",
              "    [theme=dark] .colab-df-convert:hover {\n",
              "      background-color: #434B5C;\n",
              "      box-shadow: 0px 1px 3px 1px rgba(0, 0, 0, 0.15);\n",
              "      filter: drop-shadow(0px 1px 2px rgba(0, 0, 0, 0.3));\n",
              "      fill: #FFFFFF;\n",
              "    }\n",
              "  </style>\n",
              "\n",
              "      <script>\n",
              "        const buttonEl =\n",
              "          document.querySelector('#df-9de0a188-d424-48fb-aca7-7e3a638600a1 button.colab-df-convert');\n",
              "        buttonEl.style.display =\n",
              "          google.colab.kernel.accessAllowed ? 'block' : 'none';\n",
              "\n",
              "        async function convertToInteractive(key) {\n",
              "          const element = document.querySelector('#df-9de0a188-d424-48fb-aca7-7e3a638600a1');\n",
              "          const dataTable =\n",
              "            await google.colab.kernel.invokeFunction('convertToInteractive',\n",
              "                                                     [key], {});\n",
              "          if (!dataTable) return;\n",
              "\n",
              "          const docLinkHtml = 'Like what you see? Visit the ' +\n",
              "            '<a target=\"_blank\" href=https://colab.research.google.com/notebooks/data_table.ipynb>data table notebook</a>'\n",
              "            + ' to learn more about interactive tables.';\n",
              "          element.innerHTML = '';\n",
              "          dataTable['output_type'] = 'display_data';\n",
              "          await google.colab.output.renderOutput(dataTable, element);\n",
              "          const docLink = document.createElement('div');\n",
              "          docLink.innerHTML = docLinkHtml;\n",
              "          element.appendChild(docLink);\n",
              "        }\n",
              "      </script>\n",
              "    </div>\n",
              "  </div>\n",
              "  "
            ]
          },
          "metadata": {},
          "execution_count": 6
        }
      ],
      "source": [
        "#Print tail\n",
        "df.tail()"
      ]
    },
    {
      "cell_type": "markdown",
      "id": "060b65fb-9802-4051-bdf8-97f425c1847a",
      "metadata": {
        "id": "060b65fb-9802-4051-bdf8-97f425c1847a"
      },
      "source": [
        "I'd rather work with daily cases so I'll replace the `Cases` column with `Daily_Cases`."
      ]
    },
    {
      "cell_type": "code",
      "execution_count": 7,
      "id": "b3864314-e291-4d34-b426-6900733c6715",
      "metadata": {
        "tags": [],
        "colab": {
          "base_uri": "https://localhost:8080/",
          "height": 206
        },
        "id": "b3864314-e291-4d34-b426-6900733c6715",
        "outputId": "8ddceb0e-7748-4810-c273-48cb21d43e81"
      },
      "outputs": [
        {
          "output_type": "execute_result",
          "data": {
            "text/plain": [
              "                       Date  Daily_Cases  Cumulative_Cases\n",
              "0 2020-01-23 00:00:00+00:00            2                 2\n",
              "1 2020-01-24 00:00:00+00:00            1                 3\n",
              "2 2020-01-25 00:00:00+00:00            0                 3\n",
              "3 2020-01-26 00:00:00+00:00            0                 3\n",
              "4 2020-01-27 00:00:00+00:00            0                 3"
            ],
            "text/html": [
              "\n",
              "  <div id=\"df-7bcd311b-381c-4d70-ac5c-ead7eaa4fd00\">\n",
              "    <div class=\"colab-df-container\">\n",
              "      <div>\n",
              "<style scoped>\n",
              "    .dataframe tbody tr th:only-of-type {\n",
              "        vertical-align: middle;\n",
              "    }\n",
              "\n",
              "    .dataframe tbody tr th {\n",
              "        vertical-align: top;\n",
              "    }\n",
              "\n",
              "    .dataframe thead th {\n",
              "        text-align: right;\n",
              "    }\n",
              "</style>\n",
              "<table border=\"1\" class=\"dataframe\">\n",
              "  <thead>\n",
              "    <tr style=\"text-align: right;\">\n",
              "      <th></th>\n",
              "      <th>Date</th>\n",
              "      <th>Daily_Cases</th>\n",
              "      <th>Cumulative_Cases</th>\n",
              "    </tr>\n",
              "  </thead>\n",
              "  <tbody>\n",
              "    <tr>\n",
              "      <th>0</th>\n",
              "      <td>2020-01-23 00:00:00+00:00</td>\n",
              "      <td>2</td>\n",
              "      <td>2</td>\n",
              "    </tr>\n",
              "    <tr>\n",
              "      <th>1</th>\n",
              "      <td>2020-01-24 00:00:00+00:00</td>\n",
              "      <td>1</td>\n",
              "      <td>3</td>\n",
              "    </tr>\n",
              "    <tr>\n",
              "      <th>2</th>\n",
              "      <td>2020-01-25 00:00:00+00:00</td>\n",
              "      <td>0</td>\n",
              "      <td>3</td>\n",
              "    </tr>\n",
              "    <tr>\n",
              "      <th>3</th>\n",
              "      <td>2020-01-26 00:00:00+00:00</td>\n",
              "      <td>0</td>\n",
              "      <td>3</td>\n",
              "    </tr>\n",
              "    <tr>\n",
              "      <th>4</th>\n",
              "      <td>2020-01-27 00:00:00+00:00</td>\n",
              "      <td>0</td>\n",
              "      <td>3</td>\n",
              "    </tr>\n",
              "  </tbody>\n",
              "</table>\n",
              "</div>\n",
              "      <button class=\"colab-df-convert\" onclick=\"convertToInteractive('df-7bcd311b-381c-4d70-ac5c-ead7eaa4fd00')\"\n",
              "              title=\"Convert this dataframe to an interactive table.\"\n",
              "              style=\"display:none;\">\n",
              "        \n",
              "  <svg xmlns=\"http://www.w3.org/2000/svg\" height=\"24px\"viewBox=\"0 0 24 24\"\n",
              "       width=\"24px\">\n",
              "    <path d=\"M0 0h24v24H0V0z\" fill=\"none\"/>\n",
              "    <path d=\"M18.56 5.44l.94 2.06.94-2.06 2.06-.94-2.06-.94-.94-2.06-.94 2.06-2.06.94zm-11 1L8.5 8.5l.94-2.06 2.06-.94-2.06-.94L8.5 2.5l-.94 2.06-2.06.94zm10 10l.94 2.06.94-2.06 2.06-.94-2.06-.94-.94-2.06-.94 2.06-2.06.94z\"/><path d=\"M17.41 7.96l-1.37-1.37c-.4-.4-.92-.59-1.43-.59-.52 0-1.04.2-1.43.59L10.3 9.45l-7.72 7.72c-.78.78-.78 2.05 0 2.83L4 21.41c.39.39.9.59 1.41.59.51 0 1.02-.2 1.41-.59l7.78-7.78 2.81-2.81c.8-.78.8-2.07 0-2.86zM5.41 20L4 18.59l7.72-7.72 1.47 1.35L5.41 20z\"/>\n",
              "  </svg>\n",
              "      </button>\n",
              "      \n",
              "  <style>\n",
              "    .colab-df-container {\n",
              "      display:flex;\n",
              "      flex-wrap:wrap;\n",
              "      gap: 12px;\n",
              "    }\n",
              "\n",
              "    .colab-df-convert {\n",
              "      background-color: #E8F0FE;\n",
              "      border: none;\n",
              "      border-radius: 50%;\n",
              "      cursor: pointer;\n",
              "      display: none;\n",
              "      fill: #1967D2;\n",
              "      height: 32px;\n",
              "      padding: 0 0 0 0;\n",
              "      width: 32px;\n",
              "    }\n",
              "\n",
              "    .colab-df-convert:hover {\n",
              "      background-color: #E2EBFA;\n",
              "      box-shadow: 0px 1px 2px rgba(60, 64, 67, 0.3), 0px 1px 3px 1px rgba(60, 64, 67, 0.15);\n",
              "      fill: #174EA6;\n",
              "    }\n",
              "\n",
              "    [theme=dark] .colab-df-convert {\n",
              "      background-color: #3B4455;\n",
              "      fill: #D2E3FC;\n",
              "    }\n",
              "\n",
              "    [theme=dark] .colab-df-convert:hover {\n",
              "      background-color: #434B5C;\n",
              "      box-shadow: 0px 1px 3px 1px rgba(0, 0, 0, 0.15);\n",
              "      filter: drop-shadow(0px 1px 2px rgba(0, 0, 0, 0.3));\n",
              "      fill: #FFFFFF;\n",
              "    }\n",
              "  </style>\n",
              "\n",
              "      <script>\n",
              "        const buttonEl =\n",
              "          document.querySelector('#df-7bcd311b-381c-4d70-ac5c-ead7eaa4fd00 button.colab-df-convert');\n",
              "        buttonEl.style.display =\n",
              "          google.colab.kernel.accessAllowed ? 'block' : 'none';\n",
              "\n",
              "        async function convertToInteractive(key) {\n",
              "          const element = document.querySelector('#df-7bcd311b-381c-4d70-ac5c-ead7eaa4fd00');\n",
              "          const dataTable =\n",
              "            await google.colab.kernel.invokeFunction('convertToInteractive',\n",
              "                                                     [key], {});\n",
              "          if (!dataTable) return;\n",
              "\n",
              "          const docLinkHtml = 'Like what you see? Visit the ' +\n",
              "            '<a target=\"_blank\" href=https://colab.research.google.com/notebooks/data_table.ipynb>data table notebook</a>'\n",
              "            + ' to learn more about interactive tables.';\n",
              "          element.innerHTML = '';\n",
              "          dataTable['output_type'] = 'display_data';\n",
              "          await google.colab.output.renderOutput(dataTable, element);\n",
              "          const docLink = document.createElement('div');\n",
              "          docLink.innerHTML = docLinkHtml;\n",
              "          element.appendChild(docLink);\n",
              "        }\n",
              "      </script>\n",
              "    </div>\n",
              "  </div>\n",
              "  "
            ]
          },
          "metadata": {},
          "execution_count": 7
        }
      ],
      "source": [
        "#Cases non-cumulative\n",
        "df['Lag'] = df.Cases.shift(1).fillna(0)\n",
        "\n",
        "df['Daily_Cases'] = df.Cases - df.Lag\n",
        "df['Daily_Cases'] = df['Daily_Cases'].astype('int')\n",
        "\n",
        "df['Cumulative_Cases'] = df['Cases']\n",
        "\n",
        "df = df.drop(columns = ['Cases', 'Lag'])\n",
        "\n",
        "df.head()"
      ]
    },
    {
      "cell_type": "markdown",
      "id": "986c0dea-7ab3-43cb-97e7-b89f6c0c0b43",
      "metadata": {
        "id": "986c0dea-7ab3-43cb-97e7-b89f6c0c0b43"
      },
      "source": [
        "### Visualizing the Data"
      ]
    },
    {
      "cell_type": "markdown",
      "id": "1fdf6797-a00e-45a3-ae39-9f63ea43f489",
      "metadata": {
        "id": "1fdf6797-a00e-45a3-ae39-9f63ea43f489"
      },
      "source": [
        "After a lot of tinkering and exploring the `pandas` package, I've created a figure plotting the all-time Canadian daily Covid cases."
      ]
    },
    {
      "cell_type": "code",
      "execution_count": 8,
      "id": "c52c42e1-da6f-4d68-b799-1c08e9583a4d",
      "metadata": {
        "colab": {
          "base_uri": "https://localhost:8080/",
          "height": 334
        },
        "id": "c52c42e1-da6f-4d68-b799-1c08e9583a4d",
        "outputId": "d96473c9-cc2f-49a8-d1f8-24c9c99ffffc"
      },
      "outputs": [
        {
          "output_type": "execute_result",
          "data": {
            "text/plain": [
              "<matplotlib.legend.Legend at 0x7f8b05338940>"
            ]
          },
          "metadata": {},
          "execution_count": 8
        },
        {
          "output_type": "display_data",
          "data": {
            "text/plain": [
              "<Figure size 432x288 with 1 Axes>"
            ],
            "image/png": "[encoded data removed]"
          },
          "metadata": {
            "needs_background": "light"
          }
        }
      ],
      "source": [
        "#Plot all daily cases vs time\n",
        "\n",
        "df['Smoothed_Daily_Cases'] = savgol_filter(df['Daily_Cases'], 51, 10)\n",
        "\n",
        "f_style = 'DejaVu Sans'\n",
        "axis_size = 15\n",
        "title_size = 21\n",
        "tick_size = 8\n",
        "\n",
        "df.plot(x = 'Date', y = ['Daily_Cases', 'Smoothed_Daily_Cases'], color = ['lightblue','red'])\n",
        "\n",
        "plt.xlabel(\"Date\", fontsize = axis_size, fontweight = 'light', fontname = f_style);\n",
        "plt.ylabel(\"Number of Daily Cases\", fontsize = axis_size, fontweight = 'light', fontname = f_style);\n",
        "plt.title(\"Covid Cases in Canada - All Time\", fontsize = title_size, fontweight = 'light', fontname = f_style)\n",
        "plt.ylim(0)\n",
        "plt.xticks(fontsize=tick_size, fontweight = 'normal', fontname = f_style)\n",
        "plt.yticks(fontsize=tick_size, fontweight = 'normal', fontname = f_style)\n",
        "plt.legend(['Daily Cases', 'Smoothed Daily Cases'], fontsize = tick_size)"
      ]
    },
    {
      "cell_type": "markdown",
      "id": "be92909d-810a-4faa-8d9d-8e55c4d76604",
      "metadata": {
        "id": "be92909d-810a-4faa-8d9d-8e55c4d76604"
      },
      "source": [
        "Some of the data seems strange, such as the large daily case spike between January and July of 2022. This could be due to many days of cases being reported in one day. Overall, it's quite facinating ot see the fluctuations in cases as well as the spikes around January in 2021 and 2022."
      ]
    },
    {
      "cell_type": "markdown",
      "id": "e92f2bef-f3da-4fd8-9c62-3a24fae96cfb",
      "metadata": {
        "id": "e92f2bef-f3da-4fd8-9c62-3a24fae96cfb"
      },
      "source": [
        "I also created a graph that looks at more recent data collected in the past six months."
      ]
    },
    {
      "cell_type": "code",
      "execution_count": 9,
      "id": "92c16c78-a003-448c-a6da-b4cfb74a0f46",
      "metadata": {
        "colab": {
          "base_uri": "https://localhost:8080/",
          "height": 334
        },
        "id": "92c16c78-a003-448c-a6da-b4cfb74a0f46",
        "outputId": "d8d4b9e7-d90e-440e-c592-5d1ae8d2a0f8"
      },
      "outputs": [
        {
          "output_type": "execute_result",
          "data": {
            "text/plain": [
              "<matplotlib.legend.Legend at 0x7f8b052a6c10>"
            ]
          },
          "metadata": {},
          "execution_count": 9
        },
        {
          "output_type": "display_data",
          "data": {
            "text/plain": [
              "<Figure size 432x288 with 1 Axes>"
            ],
            "image/png": "[encoded data removed]"
          },
          "metadata": {
            "needs_background": "light"
          }
        }
      ],
      "source": [
        "#Last 6 Months of Daily casses\n",
        "\n",
        "last_5_months_df = df.tail(180)\n",
        "\n",
        "\n",
        "f_style = 'DejaVu Sans'\n",
        "axis_size = 15\n",
        "title_size = 21\n",
        "tick_size = 8\n",
        "\n",
        "last_5_months_df.plot(x = 'Date', y = ['Daily_Cases', 'Smoothed_Daily_Cases'], color = ['lightblue','orange'])\n",
        "\n",
        "plt.xlabel(\"Date\", fontsize = axis_size, fontweight = 'light', fontname = f_style);\n",
        "plt.ylabel(\"Number of Daily Cases\", fontsize = axis_size, fontweight = 'light', fontname = f_style);\n",
        "plt.title(\"Covid Cases in Canada - Last 6 Months\", fontsize = title_size, fontweight = 'light', fontname = f_style)\n",
        "plt.ylim(0)\n",
        "plt.xticks(fontsize=tick_size, fontweight = 'normal', fontname = f_style)\n",
        "plt.yticks(fontsize=tick_size, fontweight = 'normal', fontname = f_style)\n",
        "plt.legend(['Daily Cases', 'Smoothed Daily Cases'], fontsize = tick_size)\n"
      ]
    },
    {
      "cell_type": "markdown",
      "id": "80867cd3-bddf-415e-9dba-a42264e79bdd",
      "metadata": {
        "id": "80867cd3-bddf-415e-9dba-a42264e79bdd"
      },
      "source": [
        "Here the smoothed line is the most important as data is reported on a week basis, rather than a daily one. "
      ]
    },
    {
      "cell_type": "markdown",
      "id": "63ad03d6-d3ad-4131-af14-44507552a9fb",
      "metadata": {
        "id": "63ad03d6-d3ad-4131-af14-44507552a9fb"
      },
      "source": [
        "### Conclusion"
      ]
    },
    {
      "cell_type": "markdown",
      "id": "727c7650-efdf-49fb-bd7e-23a38bf96c41",
      "metadata": {
        "id": "727c7650-efdf-49fb-bd7e-23a38bf96c41"
      },
      "source": [
        "Overall it has been neat to replicate (to some degree) the graphs I would check every day a few years ago. Working with live data has also been a real treat and I'm excited to see how different these visualizations look a year from now."
      ]
    }
  ],
  "metadata": {
    "kernelspec": {
      "display_name": "Python 3 (ipykernel)",
      "language": "python",
      "name": "python3"
    },
    "language_info": {
      "codemirror_mode": {
        "name": "ipython",
        "version": 3
      },
      "file_extension": ".py",
      "mimetype": "text/x-python",
      "name": "python",
      "nbconvert_exporter": "python",
      "pygments_lexer": "ipython3",
      "version": "3.10.6"
    },
    "colab": {
      "provenance": [],
      "include_colab_link": true
    }
  },
  "nbformat": 4,
  "nbformat_minor": 5
}